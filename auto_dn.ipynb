{
 "cells": [
  {
   "cell_type": "code",
   "execution_count": null,
   "metadata": {},
   "outputs": [],
   "source": [
    "from selenium.webdriver.chrome.service import Service\n",
    "from webdriver_manager.chrome import ChromeDriverManager\n",
    "from selenium.webdriver.common.by import By\n",
    "from selenium import webdriver\n",
    "import time\n",
    "\n",
    "\n",
    "options = webdriver.ChromeOptions()\n",
    "options.add_experimental_option('prefs', {\n",
    "    'plugins.always_open_pdf_externally': True\n",
    "})\n",
    "\n",
    "driver = webdriver.Chrome(service=Service(service=Service(ChromeDriverManager().install())), options=options)\n",
    "\n",
    "URL = \"https://main.sci.gov.in/collegium-resolutions\"\n",
    "\n",
    "driver.get(URL)\n",
    "\n",
    "# for page to load\n",
    "time.sleep(5)\n",
    "\n",
    "#The table already has entries arranged in order of their recency\n",
    "# Find the link to the PDF in the first row of the table\n",
    "link_element = driver.find_element(By.XPATH, \"//tr[@role='row' and @class='odd'][1]/td/a\")\n",
    "\n",
    "# Get the URL of the PDF\n",
    "pdf_url = link_element.get_attribute(\"href\")\n",
    "\n",
    "driver.get(pdf_url)\n",
    "\n",
    "#for page to load\n",
    "time.sleep(10)\n",
    "\n",
    "# Close the browser\n",
    "driver.quit()\n"
   ]
  }
 ],
 "metadata": {
  "kernelspec": {
   "display_name": "Python 3",
   "language": "python",
   "name": "python3"
  },
  "language_info": {
   "name": "python",
   "version": "3.8.6"
  }
 },
 "nbformat": 4,
 "nbformat_minor": 2
}
